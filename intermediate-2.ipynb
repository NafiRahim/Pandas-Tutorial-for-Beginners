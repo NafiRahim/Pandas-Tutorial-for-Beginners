{
 "cells": [
  {
   "cell_type": "markdown",
   "metadata": {},
   "source": [
    "## In previous notebook, we have learn about fillna, idxmax, idxmin, merge, concat, plot functions\n",
    "### In this notebook, we will learn about groupby, agg, pivot_table, melt, stack, unstack, crosstab."
   ]
  },
  {
   "cell_type": "code",
   "execution_count": 1,
   "metadata": {},
   "outputs": [],
   "source": [
    "import pandas as pd\n",
    "df = pd.read_csv(\"Section_B.csv\")"
   ]
  },
  {
   "cell_type": "code",
   "execution_count": 2,
   "metadata": {},
   "outputs": [
    {
     "data": {
      "text/html": [
       "<div>\n",
       "<style scoped>\n",
       "    .dataframe tbody tr th:only-of-type {\n",
       "        vertical-align: middle;\n",
       "    }\n",
       "\n",
       "    .dataframe tbody tr th {\n",
       "        vertical-align: top;\n",
       "    }\n",
       "\n",
       "    .dataframe thead th {\n",
       "        text-align: right;\n",
       "    }\n",
       "</style>\n",
       "<table border=\"1\" class=\"dataframe\">\n",
       "  <thead>\n",
       "    <tr style=\"text-align: right;\">\n",
       "      <th></th>\n",
       "      <th>id</th>\n",
       "      <th>Name</th>\n",
       "      <th>Gender</th>\n",
       "      <th>Age</th>\n",
       "      <th>Science</th>\n",
       "      <th>English</th>\n",
       "      <th>History</th>\n",
       "      <th>Maths</th>\n",
       "      <th>Total</th>\n",
       "    </tr>\n",
       "  </thead>\n",
       "  <tbody>\n",
       "    <tr>\n",
       "      <th>0</th>\n",
       "      <td>2</td>\n",
       "      <td>Lemmie</td>\n",
       "      <td>Male</td>\n",
       "      <td>15</td>\n",
       "      <td>29</td>\n",
       "      <td>41</td>\n",
       "      <td>17</td>\n",
       "      <td>40</td>\n",
       "      <td>127</td>\n",
       "    </tr>\n",
       "    <tr>\n",
       "      <th>1</th>\n",
       "      <td>4</td>\n",
       "      <td>Denna</td>\n",
       "      <td>Female</td>\n",
       "      <td>14</td>\n",
       "      <td>15</td>\n",
       "      <td>53</td>\n",
       "      <td>82</td>\n",
       "      <td>33</td>\n",
       "      <td>183</td>\n",
       "    </tr>\n",
       "    <tr>\n",
       "      <th>2</th>\n",
       "      <td>7</td>\n",
       "      <td>Ichabod</td>\n",
       "      <td>Female</td>\n",
       "      <td>14</td>\n",
       "      <td>38</td>\n",
       "      <td>74</td>\n",
       "      <td>54</td>\n",
       "      <td>60</td>\n",
       "      <td>226</td>\n",
       "    </tr>\n",
       "    <tr>\n",
       "      <th>3</th>\n",
       "      <td>8</td>\n",
       "      <td>Beverlie</td>\n",
       "      <td>Male</td>\n",
       "      <td>14</td>\n",
       "      <td>25</td>\n",
       "      <td>51</td>\n",
       "      <td>41</td>\n",
       "      <td>80</td>\n",
       "      <td>197</td>\n",
       "    </tr>\n",
       "    <tr>\n",
       "      <th>4</th>\n",
       "      <td>12</td>\n",
       "      <td>Valaria</td>\n",
       "      <td>Male</td>\n",
       "      <td>13</td>\n",
       "      <td>19</td>\n",
       "      <td>5</td>\n",
       "      <td>78</td>\n",
       "      <td>76</td>\n",
       "      <td>178</td>\n",
       "    </tr>\n",
       "    <tr>\n",
       "      <th>...</th>\n",
       "      <td>...</td>\n",
       "      <td>...</td>\n",
       "      <td>...</td>\n",
       "      <td>...</td>\n",
       "      <td>...</td>\n",
       "      <td>...</td>\n",
       "      <td>...</td>\n",
       "      <td>...</td>\n",
       "      <td>...</td>\n",
       "    </tr>\n",
       "    <tr>\n",
       "      <th>74</th>\n",
       "      <td>243</td>\n",
       "      <td>Morrie</td>\n",
       "      <td>Female</td>\n",
       "      <td>13</td>\n",
       "      <td>17</td>\n",
       "      <td>24</td>\n",
       "      <td>41</td>\n",
       "      <td>21</td>\n",
       "      <td>103</td>\n",
       "    </tr>\n",
       "    <tr>\n",
       "      <th>75</th>\n",
       "      <td>247</td>\n",
       "      <td>Rog</td>\n",
       "      <td>Female</td>\n",
       "      <td>13</td>\n",
       "      <td>1</td>\n",
       "      <td>4</td>\n",
       "      <td>68</td>\n",
       "      <td>65</td>\n",
       "      <td>138</td>\n",
       "    </tr>\n",
       "    <tr>\n",
       "      <th>76</th>\n",
       "      <td>248</td>\n",
       "      <td>Kaia</td>\n",
       "      <td>Male</td>\n",
       "      <td>15</td>\n",
       "      <td>93</td>\n",
       "      <td>48</td>\n",
       "      <td>82</td>\n",
       "      <td>44</td>\n",
       "      <td>267</td>\n",
       "    </tr>\n",
       "    <tr>\n",
       "      <th>77</th>\n",
       "      <td>249</td>\n",
       "      <td>Anni</td>\n",
       "      <td>Female</td>\n",
       "      <td>14</td>\n",
       "      <td>35</td>\n",
       "      <td>73</td>\n",
       "      <td>66</td>\n",
       "      <td>59</td>\n",
       "      <td>233</td>\n",
       "    </tr>\n",
       "    <tr>\n",
       "      <th>78</th>\n",
       "      <td>250</td>\n",
       "      <td>Fernande</td>\n",
       "      <td>Male</td>\n",
       "      <td>15</td>\n",
       "      <td>50</td>\n",
       "      <td>8</td>\n",
       "      <td>80</td>\n",
       "      <td>78</td>\n",
       "      <td>216</td>\n",
       "    </tr>\n",
       "  </tbody>\n",
       "</table>\n",
       "<p>79 rows × 9 columns</p>\n",
       "</div>"
      ],
      "text/plain": [
       "     id      Name  Gender  Age  Science  English  History  Maths  Total\n",
       "0     2    Lemmie    Male   15       29       41       17     40    127\n",
       "1     4     Denna  Female   14       15       53       82     33    183\n",
       "2     7   Ichabod  Female   14       38       74       54     60    226\n",
       "3     8  Beverlie    Male   14       25       51       41     80    197\n",
       "4    12   Valaria    Male   13       19        5       78     76    178\n",
       "..  ...       ...     ...  ...      ...      ...      ...    ...    ...\n",
       "74  243    Morrie  Female   13       17       24       41     21    103\n",
       "75  247       Rog  Female   13        1        4       68     65    138\n",
       "76  248      Kaia    Male   15       93       48       82     44    267\n",
       "77  249      Anni  Female   14       35       73       66     59    233\n",
       "78  250  Fernande    Male   15       50        8       80     78    216\n",
       "\n",
       "[79 rows x 9 columns]"
      ]
     },
     "execution_count": 2,
     "metadata": {},
     "output_type": "execute_result"
    }
   ],
   "source": [
    "df"
   ]
  },
  {
   "cell_type": "markdown",
   "metadata": {},
   "source": [
    "# Groupby and Aggregate Functions\n",
    "- **Groupby**: Splitting a dataframe into groups based on some criteria\n",
    "- **Aggregate**: Computing some statistics (or aggregations) about each group"
   ]
  },
  {
   "cell_type": "markdown",
   "metadata": {},
   "source": [
    "Here, we can see in the section_B data, we can make few groups of the data. We can make 3 groups of the data. Such as groupby Gender, Age or mark obtain by students in specific subject."
   ]
  },
  {
   "cell_type": "code",
   "execution_count": 3,
   "metadata": {},
   "outputs": [
    {
     "data": {
      "text/plain": [
       "Gender\n",
       "Female    47\n",
       "Male      32\n",
       "dtype: int64"
      ]
     },
     "execution_count": 3,
     "metadata": {},
     "output_type": "execute_result"
    }
   ],
   "source": [
    "# groupby Gender and count the number of rows in each group\n",
    "groupby_gender = df.groupby(\"Gender\")\n",
    "groupby_gender.size()"
   ]
  },
  {
   "cell_type": "code",
   "execution_count": 4,
   "metadata": {},
   "outputs": [],
   "source": [
    "# Create a DataFrame containing data only for the selected gender\n",
    "Female_gender_df = groupby_gender.get_group(\"Female\")\n",
    "Male_gender_df = groupby_gender.get_group(\"Male\")"
   ]
  },
  {
   "cell_type": "code",
   "execution_count": 5,
   "metadata": {},
   "outputs": [
    {
     "data": {
      "text/html": [
       "<div>\n",
       "<style scoped>\n",
       "    .dataframe tbody tr th:only-of-type {\n",
       "        vertical-align: middle;\n",
       "    }\n",
       "\n",
       "    .dataframe tbody tr th {\n",
       "        vertical-align: top;\n",
       "    }\n",
       "\n",
       "    .dataframe thead th {\n",
       "        text-align: right;\n",
       "    }\n",
       "</style>\n",
       "<table border=\"1\" class=\"dataframe\">\n",
       "  <thead>\n",
       "    <tr style=\"text-align: right;\">\n",
       "      <th></th>\n",
       "      <th>id</th>\n",
       "      <th>Name</th>\n",
       "      <th>Gender</th>\n",
       "      <th>Age</th>\n",
       "      <th>Science</th>\n",
       "      <th>English</th>\n",
       "      <th>History</th>\n",
       "      <th>Maths</th>\n",
       "      <th>Total</th>\n",
       "    </tr>\n",
       "  </thead>\n",
       "  <tbody>\n",
       "    <tr>\n",
       "      <th>0</th>\n",
       "      <td>2</td>\n",
       "      <td>Lemmie</td>\n",
       "      <td>Male</td>\n",
       "      <td>15</td>\n",
       "      <td>29</td>\n",
       "      <td>41</td>\n",
       "      <td>17</td>\n",
       "      <td>40</td>\n",
       "      <td>127</td>\n",
       "    </tr>\n",
       "    <tr>\n",
       "      <th>3</th>\n",
       "      <td>8</td>\n",
       "      <td>Beverlie</td>\n",
       "      <td>Male</td>\n",
       "      <td>14</td>\n",
       "      <td>25</td>\n",
       "      <td>51</td>\n",
       "      <td>41</td>\n",
       "      <td>80</td>\n",
       "      <td>197</td>\n",
       "    </tr>\n",
       "    <tr>\n",
       "      <th>4</th>\n",
       "      <td>12</td>\n",
       "      <td>Valaria</td>\n",
       "      <td>Male</td>\n",
       "      <td>13</td>\n",
       "      <td>19</td>\n",
       "      <td>5</td>\n",
       "      <td>78</td>\n",
       "      <td>76</td>\n",
       "      <td>178</td>\n",
       "    </tr>\n",
       "    <tr>\n",
       "      <th>9</th>\n",
       "      <td>20</td>\n",
       "      <td>Ashlan</td>\n",
       "      <td>Male</td>\n",
       "      <td>13</td>\n",
       "      <td>41</td>\n",
       "      <td>6</td>\n",
       "      <td>17</td>\n",
       "      <td>3</td>\n",
       "      <td>67</td>\n",
       "    </tr>\n",
       "    <tr>\n",
       "      <th>10</th>\n",
       "      <td>22</td>\n",
       "      <td>Benoite</td>\n",
       "      <td>Male</td>\n",
       "      <td>14</td>\n",
       "      <td>3</td>\n",
       "      <td>55</td>\n",
       "      <td>14</td>\n",
       "      <td>95</td>\n",
       "      <td>167</td>\n",
       "    </tr>\n",
       "  </tbody>\n",
       "</table>\n",
       "</div>"
      ],
      "text/plain": [
       "    id      Name Gender  Age  Science  English  History  Maths  Total\n",
       "0    2    Lemmie   Male   15       29       41       17     40    127\n",
       "3    8  Beverlie   Male   14       25       51       41     80    197\n",
       "4   12   Valaria   Male   13       19        5       78     76    178\n",
       "9   20    Ashlan   Male   13       41        6       17      3     67\n",
       "10  22   Benoite   Male   14        3       55       14     95    167"
      ]
     },
     "execution_count": 5,
     "metadata": {},
     "output_type": "execute_result"
    }
   ],
   "source": [
    "Male_gender_df.head()"
   ]
  },
  {
   "cell_type": "code",
   "execution_count": 6,
   "metadata": {},
   "outputs": [
    {
     "data": {
      "text/html": [
       "<div>\n",
       "<style scoped>\n",
       "    .dataframe tbody tr th:only-of-type {\n",
       "        vertical-align: middle;\n",
       "    }\n",
       "\n",
       "    .dataframe tbody tr th {\n",
       "        vertical-align: top;\n",
       "    }\n",
       "\n",
       "    .dataframe thead th {\n",
       "        text-align: right;\n",
       "    }\n",
       "</style>\n",
       "<table border=\"1\" class=\"dataframe\">\n",
       "  <thead>\n",
       "    <tr style=\"text-align: right;\">\n",
       "      <th></th>\n",
       "      <th>id</th>\n",
       "      <th>Name</th>\n",
       "      <th>Gender</th>\n",
       "      <th>Age</th>\n",
       "      <th>Science</th>\n",
       "      <th>English</th>\n",
       "      <th>History</th>\n",
       "      <th>Maths</th>\n",
       "      <th>Total</th>\n",
       "    </tr>\n",
       "  </thead>\n",
       "  <tbody>\n",
       "    <tr>\n",
       "      <th>1</th>\n",
       "      <td>4</td>\n",
       "      <td>Denna</td>\n",
       "      <td>Female</td>\n",
       "      <td>14</td>\n",
       "      <td>15</td>\n",
       "      <td>53</td>\n",
       "      <td>82</td>\n",
       "      <td>33</td>\n",
       "      <td>183</td>\n",
       "    </tr>\n",
       "    <tr>\n",
       "      <th>2</th>\n",
       "      <td>7</td>\n",
       "      <td>Ichabod</td>\n",
       "      <td>Female</td>\n",
       "      <td>14</td>\n",
       "      <td>38</td>\n",
       "      <td>74</td>\n",
       "      <td>54</td>\n",
       "      <td>60</td>\n",
       "      <td>226</td>\n",
       "    </tr>\n",
       "    <tr>\n",
       "      <th>5</th>\n",
       "      <td>14</td>\n",
       "      <td>Gracie</td>\n",
       "      <td>Female</td>\n",
       "      <td>13</td>\n",
       "      <td>93</td>\n",
       "      <td>38</td>\n",
       "      <td>39</td>\n",
       "      <td>98</td>\n",
       "      <td>268</td>\n",
       "    </tr>\n",
       "    <tr>\n",
       "      <th>6</th>\n",
       "      <td>15</td>\n",
       "      <td>Missy</td>\n",
       "      <td>Female</td>\n",
       "      <td>13</td>\n",
       "      <td>98</td>\n",
       "      <td>18</td>\n",
       "      <td>84</td>\n",
       "      <td>74</td>\n",
       "      <td>274</td>\n",
       "    </tr>\n",
       "    <tr>\n",
       "      <th>7</th>\n",
       "      <td>18</td>\n",
       "      <td>Dory</td>\n",
       "      <td>Female</td>\n",
       "      <td>13</td>\n",
       "      <td>5</td>\n",
       "      <td>89</td>\n",
       "      <td>25</td>\n",
       "      <td>23</td>\n",
       "      <td>142</td>\n",
       "    </tr>\n",
       "  </tbody>\n",
       "</table>\n",
       "</div>"
      ],
      "text/plain": [
       "   id     Name  Gender  Age  Science  English  History  Maths  Total\n",
       "1   4    Denna  Female   14       15       53       82     33    183\n",
       "2   7  Ichabod  Female   14       38       74       54     60    226\n",
       "5  14   Gracie  Female   13       93       38       39     98    268\n",
       "6  15    Missy  Female   13       98       18       84     74    274\n",
       "7  18     Dory  Female   13        5       89       25     23    142"
      ]
     },
     "execution_count": 6,
     "metadata": {},
     "output_type": "execute_result"
    }
   ],
   "source": [
    "Female_gender_df.head()"
   ]
  },
  {
   "cell_type": "code",
   "execution_count": 7,
   "metadata": {},
   "outputs": [
    {
     "data": {
      "text/plain": [
       "Age\n",
       "13    32\n",
       "14    23\n",
       "15    24\n",
       "dtype: int64"
      ]
     },
     "execution_count": 7,
     "metadata": {},
     "output_type": "execute_result"
    }
   ],
   "source": [
    "# groupby Age and count the number of rows in each group\n",
    "groupby_age = df.groupby(\"Age\").size()\n",
    "groupby_age"
   ]
  },
  {
   "cell_type": "markdown",
   "metadata": {},
   "source": [
    "## Usage of Aggregation Functions in Pandas\n",
    "\n",
    "The `agg()` function in Pandas is used to apply custom operations to different columns of a dataframe. This function is useful for performing complex calculations on your data in a single step. For example, you can use `agg()` to calculate the sum of one column, the mean of another column, and the count of a third column, all at the same time. \n",
    "\n",
    "We can also use `agg()` function with lambda functions to apply custom operations to our data. This can be useful when we want to perform some operation that is not available in the built-in functions of Pandas. \n",
    "\n",
    "Overall, `agg()` function is a powerful tool that can help us to perform complex calculations on our data with ease."
   ]
  },
  {
   "cell_type": "code",
   "execution_count": 8,
   "metadata": {},
   "outputs": [
    {
     "data": {
      "text/plain": [
       "Total       210.341772\n",
       "Maths      4396.000000\n",
       "History      99.000000\n",
       "English       2.000000\n",
       "dtype: float64"
      ]
     },
     "execution_count": 8,
     "metadata": {},
     "output_type": "execute_result"
    }
   ],
   "source": [
    "# using  agg function to apply diffrent operation on diffrent columns\n",
    "df.agg({'Total': \"mean\", 'Maths': \"sum\", 'History': \"max\", 'English': \"min\"})"
   ]
  },
  {
   "cell_type": "markdown",
   "metadata": {},
   "source": [
    "## Finding the Mean of Total Marks by Gender or Age\n",
    "\n",
    "In this Jupyter Notebook, we have learned about `groupby()` and `agg()` functions to split a dataframe into groups based on some criteria and compute some statistics (or aggregations) about each group.\n",
    "\n",
    "We can use these functions to find the mean of total marks of respective Gender or Age. This can be useful in analyzing the performance of different groups in a dataset."
   ]
  },
  {
   "cell_type": "code",
   "execution_count": 9,
   "metadata": {},
   "outputs": [
    {
     "data": {
      "text/html": [
       "<div>\n",
       "<style scoped>\n",
       "    .dataframe tbody tr th:only-of-type {\n",
       "        vertical-align: middle;\n",
       "    }\n",
       "\n",
       "    .dataframe tbody tr th {\n",
       "        vertical-align: top;\n",
       "    }\n",
       "\n",
       "    .dataframe thead th {\n",
       "        text-align: right;\n",
       "    }\n",
       "</style>\n",
       "<table border=\"1\" class=\"dataframe\">\n",
       "  <thead>\n",
       "    <tr style=\"text-align: right;\">\n",
       "      <th></th>\n",
       "      <th>Total</th>\n",
       "    </tr>\n",
       "    <tr>\n",
       "      <th>Age</th>\n",
       "      <th></th>\n",
       "    </tr>\n",
       "  </thead>\n",
       "  <tbody>\n",
       "    <tr>\n",
       "      <th>13</th>\n",
       "      <td>214.687500</td>\n",
       "    </tr>\n",
       "    <tr>\n",
       "      <th>14</th>\n",
       "      <td>204.434783</td>\n",
       "    </tr>\n",
       "    <tr>\n",
       "      <th>15</th>\n",
       "      <td>210.208333</td>\n",
       "    </tr>\n",
       "  </tbody>\n",
       "</table>\n",
       "</div>"
      ],
      "text/plain": [
       "          Total\n",
       "Age            \n",
       "13   214.687500\n",
       "14   204.434783\n",
       "15   210.208333"
      ]
     },
     "execution_count": 9,
     "metadata": {},
     "output_type": "execute_result"
    }
   ],
   "source": [
    "df.groupby('Age').agg({'Total' : 'mean'})"
   ]
  },
  {
   "cell_type": "code",
   "execution_count": 10,
   "metadata": {},
   "outputs": [
    {
     "data": {
      "text/html": [
       "<div>\n",
       "<style scoped>\n",
       "    .dataframe tbody tr th:only-of-type {\n",
       "        vertical-align: middle;\n",
       "    }\n",
       "\n",
       "    .dataframe tbody tr th {\n",
       "        vertical-align: top;\n",
       "    }\n",
       "\n",
       "    .dataframe thead th {\n",
       "        text-align: right;\n",
       "    }\n",
       "</style>\n",
       "<table border=\"1\" class=\"dataframe\">\n",
       "  <thead>\n",
       "    <tr style=\"text-align: right;\">\n",
       "      <th></th>\n",
       "      <th>Total</th>\n",
       "    </tr>\n",
       "    <tr>\n",
       "      <th>Gender</th>\n",
       "      <th></th>\n",
       "    </tr>\n",
       "  </thead>\n",
       "  <tbody>\n",
       "    <tr>\n",
       "      <th>Female</th>\n",
       "      <td>209.340426</td>\n",
       "    </tr>\n",
       "    <tr>\n",
       "      <th>Male</th>\n",
       "      <td>211.812500</td>\n",
       "    </tr>\n",
       "  </tbody>\n",
       "</table>\n",
       "</div>"
      ],
      "text/plain": [
       "             Total\n",
       "Gender            \n",
       "Female  209.340426\n",
       "Male    211.812500"
      ]
     },
     "execution_count": 10,
     "metadata": {},
     "output_type": "execute_result"
    }
   ],
   "source": [
    "df.groupby('Gender').agg({'Total': 'mean'})"
   ]
  },
  {
   "cell_type": "markdown",
   "metadata": {},
   "source": [
    "# Different Methods to Achieve the Same Result\n",
    "\n",
    "In this Jupyter Notebook, we have learned about different methods to achieve the same result. For example, we can use `groupby()` and `agg()` functions to find the mean of total marks obtained by female students. Alternatively, we can use the `loc` function with the `==` operator and `mean()` function to get the same result. Again, wew can use groupby than directly using the `mean()` function to get the same result.\n",
    "\n",
    "We have also learned about the `describe()` function in previous notebook, which is a general-purpose function that provides summary statistics for all numeric columns in a DataFrame. This function can be useful in analyzing the distribution of data in a dataset."
   ]
  },
  {
   "cell_type": "code",
   "execution_count": 11,
   "metadata": {},
   "outputs": [
    {
     "name": "stdout",
     "output_type": "stream",
     "text": [
      "209.3404255319149\n",
      "209.3404255319149\n"
     ]
    }
   ],
   "source": [
    "# same result using diffrent method which we learn before.\n",
    "print(Female_gender_df[\"Total\"].mean())\n",
    "# also can use loc/ iloc method to get mean of total marks of Female\n",
    "print(df.loc[df.Gender == 'Female', 'Total'].mean())"
   ]
  },
  {
   "cell_type": "markdown",
   "metadata": {},
   "source": [
    "# **Pivot Tables**\n",
    "- A pivot table is a way of summarizing data in a DataFrame for a particular purpose. It makes heavy use of the aggregation function. A pivot table is itself a DataFrame, where the rows represent one variable that you're interested in, the columns another, and the cell's some aggregate value. A pivot table also tends to include marginal values as well, which are the sums for each column and row. This allows you to be able to see the relationship between two variables at just a glance.\n",
    "\n",
    "- The term pivot table itself is quite descriptive. In general computing terms a pivot is a mechanism to summarize data in a table. It's a concept found in all spreadsheet software packages, such as Excel or Google Sheets, and it's especially useful for exploring data. Pandas provides a function 'pivot_table' for this purpose. It takes a number of arguments, the first of which is the DataFrame that contains the data you want to pivot. Then, you have to specify the index (the rows), the columns, and then the actual values."
   ]
  },
  {
   "cell_type": "markdown",
   "metadata": {},
   "source": [
    "### Let's use Pivot Table in our data.\n",
    "\n",
    "We can find average total mark of students in each Gender and Age group at a time."
   ]
  },
  {
   "cell_type": "code",
   "execution_count": 12,
   "metadata": {},
   "outputs": [
    {
     "data": {
      "text/html": [
       "<div>\n",
       "<style scoped>\n",
       "    .dataframe tbody tr th:only-of-type {\n",
       "        vertical-align: middle;\n",
       "    }\n",
       "\n",
       "    .dataframe tbody tr th {\n",
       "        vertical-align: top;\n",
       "    }\n",
       "\n",
       "    .dataframe thead th {\n",
       "        text-align: right;\n",
       "    }\n",
       "</style>\n",
       "<table border=\"1\" class=\"dataframe\">\n",
       "  <thead>\n",
       "    <tr style=\"text-align: right;\">\n",
       "      <th>Age</th>\n",
       "      <th>13</th>\n",
       "      <th>14</th>\n",
       "      <th>15</th>\n",
       "    </tr>\n",
       "    <tr>\n",
       "      <th>Gender</th>\n",
       "      <th></th>\n",
       "      <th></th>\n",
       "      <th></th>\n",
       "    </tr>\n",
       "  </thead>\n",
       "  <tbody>\n",
       "    <tr>\n",
       "      <th>Female</th>\n",
       "      <td>211.166667</td>\n",
       "      <td>210.428571</td>\n",
       "      <td>206.133333</td>\n",
       "    </tr>\n",
       "    <tr>\n",
       "      <th>Male</th>\n",
       "      <td>219.214286</td>\n",
       "      <td>195.111111</td>\n",
       "      <td>217.000000</td>\n",
       "    </tr>\n",
       "  </tbody>\n",
       "</table>\n",
       "</div>"
      ],
      "text/plain": [
       "Age             13          14          15\n",
       "Gender                                    \n",
       "Female  211.166667  210.428571  206.133333\n",
       "Male    219.214286  195.111111  217.000000"
      ]
     },
     "execution_count": 12,
     "metadata": {},
     "output_type": "execute_result"
    }
   ],
   "source": [
    "# pivot table\n",
    "df.pivot_table(index='Gender', columns='Age', values='Total', aggfunc='mean') # This showing average Total mark obtain by Female and male students in different age group."
   ]
  },
  {
   "cell_type": "markdown",
   "metadata": {},
   "source": [
    "#### We can see two or more aggregates in same pivot table by using the list of aggregates"
   ]
  },
  {
   "cell_type": "code",
   "execution_count": 13,
   "metadata": {},
   "outputs": [
    {
     "data": {
      "text/html": [
       "<div>\n",
       "<style scoped>\n",
       "    .dataframe tbody tr th:only-of-type {\n",
       "        vertical-align: middle;\n",
       "    }\n",
       "\n",
       "    .dataframe tbody tr th {\n",
       "        vertical-align: top;\n",
       "    }\n",
       "\n",
       "    .dataframe thead tr th {\n",
       "        text-align: left;\n",
       "    }\n",
       "\n",
       "    .dataframe thead tr:last-of-type th {\n",
       "        text-align: right;\n",
       "    }\n",
       "</style>\n",
       "<table border=\"1\" class=\"dataframe\">\n",
       "  <thead>\n",
       "    <tr>\n",
       "      <th></th>\n",
       "      <th colspan=\"3\" halign=\"left\">mean</th>\n",
       "      <th colspan=\"3\" halign=\"left\">max</th>\n",
       "    </tr>\n",
       "    <tr>\n",
       "      <th>Age</th>\n",
       "      <th>13</th>\n",
       "      <th>14</th>\n",
       "      <th>15</th>\n",
       "      <th>13</th>\n",
       "      <th>14</th>\n",
       "      <th>15</th>\n",
       "    </tr>\n",
       "    <tr>\n",
       "      <th>Gender</th>\n",
       "      <th></th>\n",
       "      <th></th>\n",
       "      <th></th>\n",
       "      <th></th>\n",
       "      <th></th>\n",
       "      <th></th>\n",
       "    </tr>\n",
       "  </thead>\n",
       "  <tbody>\n",
       "    <tr>\n",
       "      <th>Female</th>\n",
       "      <td>211.166667</td>\n",
       "      <td>210.428571</td>\n",
       "      <td>206.133333</td>\n",
       "      <td>304</td>\n",
       "      <td>284</td>\n",
       "      <td>333</td>\n",
       "    </tr>\n",
       "    <tr>\n",
       "      <th>Male</th>\n",
       "      <td>219.214286</td>\n",
       "      <td>195.111111</td>\n",
       "      <td>217.000000</td>\n",
       "      <td>320</td>\n",
       "      <td>288</td>\n",
       "      <td>268</td>\n",
       "    </tr>\n",
       "  </tbody>\n",
       "</table>\n",
       "</div>"
      ],
      "text/plain": [
       "              mean                          max          \n",
       "Age             13          14          15   13   14   15\n",
       "Gender                                                   \n",
       "Female  211.166667  210.428571  206.133333  304  284  333\n",
       "Male    219.214286  195.111111  217.000000  320  288  268"
      ]
     },
     "execution_count": 13,
     "metadata": {},
     "output_type": "execute_result"
    }
   ],
   "source": [
    "pd.pivot_table(df, index='Gender', columns='Age', values='Total', aggfunc=['mean', 'max'])"
   ]
  },
  {
   "cell_type": "markdown",
   "metadata": {},
   "source": [
    "This showing all subject and their mean mark by Gender and Age Group"
   ]
  },
  {
   "cell_type": "code",
   "execution_count": 14,
   "metadata": {},
   "outputs": [
    {
     "name": "stdout",
     "output_type": "stream",
     "text": [
      "          English                          History                        \\\n",
      "Age            13         14         15         13         14         15   \n",
      "Gender                                                                     \n",
      "Female  49.388889  54.642857  51.200000  52.277778  50.785714  53.200000   \n",
      "Male    42.071429  36.444444  44.333333  64.357143  47.888889  47.777778   \n",
      "\n",
      "            Maths                     Science                        \n",
      "Age            13    14         15         13         14         15  \n",
      "Gender                                                               \n",
      "Female  60.500000  45.0  54.133333  49.000000  60.000000  47.600000  \n",
      "Male    55.357143  55.0  66.111111  57.428571  55.777778  58.777778  \n"
     ]
    }
   ],
   "source": [
    "pivot_table10 = pd.pivot_table(df, index='Gender', columns='Age', values=['Science', 'English', 'History', 'Maths'], aggfunc='mean')\n",
    "print(pivot_table10)"
   ]
  },
  {
   "cell_type": "markdown",
   "metadata": {},
   "source": [
    "# **Melt function**\n",
    "Melt function is used to transform wide data to long data. In other words, it transforms horizontal data to vertical data. It is used to reshape data.\n",
    "- Melt function is used to transform or reshape data\n",
    "- Syntax: pd.melt(dataframe, id_vars=[], var_name='', value_name='')\n",
    "- id_vars: columns to be kept as it is\n",
    "- var_name: other column name for variable column\n",
    "- value_name: new column name for value of variable column"
   ]
  },
  {
   "cell_type": "code",
   "execution_count": 15,
   "metadata": {},
   "outputs": [
    {
     "data": {
      "text/html": [
       "<div>\n",
       "<style scoped>\n",
       "    .dataframe tbody tr th:only-of-type {\n",
       "        vertical-align: middle;\n",
       "    }\n",
       "\n",
       "    .dataframe tbody tr th {\n",
       "        vertical-align: top;\n",
       "    }\n",
       "\n",
       "    .dataframe thead th {\n",
       "        text-align: right;\n",
       "    }\n",
       "</style>\n",
       "<table border=\"1\" class=\"dataframe\">\n",
       "  <thead>\n",
       "    <tr style=\"text-align: right;\">\n",
       "      <th></th>\n",
       "      <th>id</th>\n",
       "      <th>Name</th>\n",
       "      <th>Gender</th>\n",
       "      <th>Age</th>\n",
       "      <th>Subject</th>\n",
       "      <th>Marks</th>\n",
       "    </tr>\n",
       "  </thead>\n",
       "  <tbody>\n",
       "    <tr>\n",
       "      <th>0</th>\n",
       "      <td>2</td>\n",
       "      <td>Lemmie</td>\n",
       "      <td>Male</td>\n",
       "      <td>15</td>\n",
       "      <td>Science</td>\n",
       "      <td>29</td>\n",
       "    </tr>\n",
       "    <tr>\n",
       "      <th>1</th>\n",
       "      <td>4</td>\n",
       "      <td>Denna</td>\n",
       "      <td>Female</td>\n",
       "      <td>14</td>\n",
       "      <td>Science</td>\n",
       "      <td>15</td>\n",
       "    </tr>\n",
       "    <tr>\n",
       "      <th>2</th>\n",
       "      <td>7</td>\n",
       "      <td>Ichabod</td>\n",
       "      <td>Female</td>\n",
       "      <td>14</td>\n",
       "      <td>Science</td>\n",
       "      <td>38</td>\n",
       "    </tr>\n",
       "    <tr>\n",
       "      <th>3</th>\n",
       "      <td>8</td>\n",
       "      <td>Beverlie</td>\n",
       "      <td>Male</td>\n",
       "      <td>14</td>\n",
       "      <td>Science</td>\n",
       "      <td>25</td>\n",
       "    </tr>\n",
       "    <tr>\n",
       "      <th>4</th>\n",
       "      <td>12</td>\n",
       "      <td>Valaria</td>\n",
       "      <td>Male</td>\n",
       "      <td>13</td>\n",
       "      <td>Science</td>\n",
       "      <td>19</td>\n",
       "    </tr>\n",
       "  </tbody>\n",
       "</table>\n",
       "</div>"
      ],
      "text/plain": [
       "   id      Name  Gender  Age  Subject  Marks\n",
       "0   2    Lemmie    Male   15  Science     29\n",
       "1   4     Denna  Female   14  Science     15\n",
       "2   7   Ichabod  Female   14  Science     38\n",
       "3   8  Beverlie    Male   14  Science     25\n",
       "4  12   Valaria    Male   13  Science     19"
      ]
     },
     "execution_count": 15,
     "metadata": {},
     "output_type": "execute_result"
    }
   ],
   "source": [
    "df_long = pd.melt(df, id_vars=['id', 'Name', 'Gender', 'Age'], var_name='Subject', value_name='Marks')\n",
    "\n",
    "df_long.head()"
   ]
  },
  {
   "cell_type": "code",
   "execution_count": 16,
   "metadata": {},
   "outputs": [
    {
     "data": {
      "text/html": [
       "<div>\n",
       "<style scoped>\n",
       "    .dataframe tbody tr th:only-of-type {\n",
       "        vertical-align: middle;\n",
       "    }\n",
       "\n",
       "    .dataframe tbody tr th {\n",
       "        vertical-align: top;\n",
       "    }\n",
       "\n",
       "    .dataframe thead th {\n",
       "        text-align: right;\n",
       "    }\n",
       "</style>\n",
       "<table border=\"1\" class=\"dataframe\">\n",
       "  <thead>\n",
       "    <tr style=\"text-align: right;\">\n",
       "      <th></th>\n",
       "      <th>id</th>\n",
       "      <th>Name</th>\n",
       "      <th>Gender</th>\n",
       "      <th>Age</th>\n",
       "      <th>Subject</th>\n",
       "      <th>Marks</th>\n",
       "    </tr>\n",
       "  </thead>\n",
       "  <tbody>\n",
       "    <tr>\n",
       "      <th>390</th>\n",
       "      <td>243</td>\n",
       "      <td>Morrie</td>\n",
       "      <td>Female</td>\n",
       "      <td>13</td>\n",
       "      <td>Total</td>\n",
       "      <td>103</td>\n",
       "    </tr>\n",
       "    <tr>\n",
       "      <th>391</th>\n",
       "      <td>247</td>\n",
       "      <td>Rog</td>\n",
       "      <td>Female</td>\n",
       "      <td>13</td>\n",
       "      <td>Total</td>\n",
       "      <td>138</td>\n",
       "    </tr>\n",
       "    <tr>\n",
       "      <th>392</th>\n",
       "      <td>248</td>\n",
       "      <td>Kaia</td>\n",
       "      <td>Male</td>\n",
       "      <td>15</td>\n",
       "      <td>Total</td>\n",
       "      <td>267</td>\n",
       "    </tr>\n",
       "    <tr>\n",
       "      <th>393</th>\n",
       "      <td>249</td>\n",
       "      <td>Anni</td>\n",
       "      <td>Female</td>\n",
       "      <td>14</td>\n",
       "      <td>Total</td>\n",
       "      <td>233</td>\n",
       "    </tr>\n",
       "    <tr>\n",
       "      <th>394</th>\n",
       "      <td>250</td>\n",
       "      <td>Fernande</td>\n",
       "      <td>Male</td>\n",
       "      <td>15</td>\n",
       "      <td>Total</td>\n",
       "      <td>216</td>\n",
       "    </tr>\n",
       "  </tbody>\n",
       "</table>\n",
       "</div>"
      ],
      "text/plain": [
       "      id      Name  Gender  Age Subject  Marks\n",
       "390  243    Morrie  Female   13   Total    103\n",
       "391  247       Rog  Female   13   Total    138\n",
       "392  248      Kaia    Male   15   Total    267\n",
       "393  249      Anni  Female   14   Total    233\n",
       "394  250  Fernande    Male   15   Total    216"
      ]
     },
     "execution_count": 16,
     "metadata": {},
     "output_type": "execute_result"
    }
   ],
   "source": [
    "df_long.tail()"
   ]
  },
  {
   "cell_type": "markdown",
   "metadata": {},
   "source": [
    "Here we can see that we keep id, Name, Gender, Age as it is. and convert rest columns into vertical format. and we put their values in the value column.\n",
    "\n",
    "#### I think it hard to understand. But if you think some time you will get it. \n",
    "we simply leave some columns as it is and convert rest columns into vertical format. and we put their values in the value column. "
   ]
  },
  {
   "cell_type": "markdown",
   "metadata": {},
   "source": [
    "#  Now we will learn about Stack and Unstack functions in Pandas"
   ]
  },
  {
   "cell_type": "code",
   "execution_count": 17,
   "metadata": {},
   "outputs": [
    {
     "data": {
      "text/plain": [
       "id   Name      Gender  Age         \n",
       "2    Lemmie    Male    15   Science     29\n",
       "                            English     41\n",
       "                            History     17\n",
       "                            Maths       40\n",
       "                            Total      127\n",
       "                                      ... \n",
       "250  Fernande  Male    15   Science     50\n",
       "                            English      8\n",
       "                            History     80\n",
       "                            Maths       78\n",
       "                            Total      216\n",
       "Length: 395, dtype: int64"
      ]
     },
     "execution_count": 17,
     "metadata": {},
     "output_type": "execute_result"
    }
   ],
   "source": [
    "stacked_df = df.set_index(['id', 'Name', 'Gender', 'Age']).stack()\n",
    "stacked_df"
   ]
  },
  {
   "cell_type": "markdown",
   "metadata": {},
   "source": [
    "## Indexing and Stacking in Pandas\n",
    "Here we use set_index() and stack() to manipulate our data.\n",
    "\n",
    "We use set_index function to make few columns as index and also use the `stack()` function to convert the remaining columns into a series. This can be useful when we want to reshape our data from a wide format to a long format.\n",
    "\n",
    "Overall, indexing and stacking are powerful tools that can help us to manipulate and analyze our data in a variety of ways."
   ]
  },
  {
   "cell_type": "code",
   "execution_count": 18,
   "metadata": {},
   "outputs": [
    {
     "data": {
      "text/plain": [
       "id   Name             \n",
       "2    Lemmie    Gender     Male\n",
       "               Age          15\n",
       "               Science      29\n",
       "               English      41\n",
       "               History      17\n",
       "                          ... \n",
       "250  Fernande  Science      50\n",
       "               English       8\n",
       "               History      80\n",
       "               Maths        78\n",
       "               Total       216\n",
       "Length: 553, dtype: object"
      ]
     },
     "execution_count": 18,
     "metadata": {},
     "output_type": "execute_result"
    }
   ],
   "source": [
    "df.set_index(['id', 'Name']).stack() # here only id and Name are index and rest are stacked"
   ]
  },
  {
   "cell_type": "markdown",
   "metadata": {},
   "source": [
    "### We can also unstack the data frame to go back to the original format. If we only apply ```unstack()``` function on stacked_df it will go back to the original format. However, however, it will keep the index as we set it before unless we apply ```reset_index()``` function."
   ]
  },
  {
   "cell_type": "code",
   "execution_count": 19,
   "metadata": {},
   "outputs": [
    {
     "data": {
      "text/html": [
       "<div>\n",
       "<style scoped>\n",
       "    .dataframe tbody tr th:only-of-type {\n",
       "        vertical-align: middle;\n",
       "    }\n",
       "\n",
       "    .dataframe tbody tr th {\n",
       "        vertical-align: top;\n",
       "    }\n",
       "\n",
       "    .dataframe thead th {\n",
       "        text-align: right;\n",
       "    }\n",
       "</style>\n",
       "<table border=\"1\" class=\"dataframe\">\n",
       "  <thead>\n",
       "    <tr style=\"text-align: right;\">\n",
       "      <th></th>\n",
       "      <th>id</th>\n",
       "      <th>Name</th>\n",
       "      <th>Gender</th>\n",
       "      <th>Age</th>\n",
       "      <th>Science</th>\n",
       "      <th>English</th>\n",
       "      <th>History</th>\n",
       "      <th>Maths</th>\n",
       "      <th>Total</th>\n",
       "    </tr>\n",
       "  </thead>\n",
       "  <tbody>\n",
       "    <tr>\n",
       "      <th>0</th>\n",
       "      <td>2</td>\n",
       "      <td>Lemmie</td>\n",
       "      <td>Male</td>\n",
       "      <td>15</td>\n",
       "      <td>29</td>\n",
       "      <td>41</td>\n",
       "      <td>17</td>\n",
       "      <td>40</td>\n",
       "      <td>127</td>\n",
       "    </tr>\n",
       "    <tr>\n",
       "      <th>1</th>\n",
       "      <td>4</td>\n",
       "      <td>Denna</td>\n",
       "      <td>Female</td>\n",
       "      <td>14</td>\n",
       "      <td>15</td>\n",
       "      <td>53</td>\n",
       "      <td>82</td>\n",
       "      <td>33</td>\n",
       "      <td>183</td>\n",
       "    </tr>\n",
       "    <tr>\n",
       "      <th>2</th>\n",
       "      <td>7</td>\n",
       "      <td>Ichabod</td>\n",
       "      <td>Female</td>\n",
       "      <td>14</td>\n",
       "      <td>38</td>\n",
       "      <td>74</td>\n",
       "      <td>54</td>\n",
       "      <td>60</td>\n",
       "      <td>226</td>\n",
       "    </tr>\n",
       "    <tr>\n",
       "      <th>3</th>\n",
       "      <td>8</td>\n",
       "      <td>Beverlie</td>\n",
       "      <td>Male</td>\n",
       "      <td>14</td>\n",
       "      <td>25</td>\n",
       "      <td>51</td>\n",
       "      <td>41</td>\n",
       "      <td>80</td>\n",
       "      <td>197</td>\n",
       "    </tr>\n",
       "    <tr>\n",
       "      <th>4</th>\n",
       "      <td>12</td>\n",
       "      <td>Valaria</td>\n",
       "      <td>Male</td>\n",
       "      <td>13</td>\n",
       "      <td>19</td>\n",
       "      <td>5</td>\n",
       "      <td>78</td>\n",
       "      <td>76</td>\n",
       "      <td>178</td>\n",
       "    </tr>\n",
       "    <tr>\n",
       "      <th>...</th>\n",
       "      <td>...</td>\n",
       "      <td>...</td>\n",
       "      <td>...</td>\n",
       "      <td>...</td>\n",
       "      <td>...</td>\n",
       "      <td>...</td>\n",
       "      <td>...</td>\n",
       "      <td>...</td>\n",
       "      <td>...</td>\n",
       "    </tr>\n",
       "    <tr>\n",
       "      <th>74</th>\n",
       "      <td>243</td>\n",
       "      <td>Morrie</td>\n",
       "      <td>Female</td>\n",
       "      <td>13</td>\n",
       "      <td>17</td>\n",
       "      <td>24</td>\n",
       "      <td>41</td>\n",
       "      <td>21</td>\n",
       "      <td>103</td>\n",
       "    </tr>\n",
       "    <tr>\n",
       "      <th>75</th>\n",
       "      <td>247</td>\n",
       "      <td>Rog</td>\n",
       "      <td>Female</td>\n",
       "      <td>13</td>\n",
       "      <td>1</td>\n",
       "      <td>4</td>\n",
       "      <td>68</td>\n",
       "      <td>65</td>\n",
       "      <td>138</td>\n",
       "    </tr>\n",
       "    <tr>\n",
       "      <th>76</th>\n",
       "      <td>248</td>\n",
       "      <td>Kaia</td>\n",
       "      <td>Male</td>\n",
       "      <td>15</td>\n",
       "      <td>93</td>\n",
       "      <td>48</td>\n",
       "      <td>82</td>\n",
       "      <td>44</td>\n",
       "      <td>267</td>\n",
       "    </tr>\n",
       "    <tr>\n",
       "      <th>77</th>\n",
       "      <td>249</td>\n",
       "      <td>Anni</td>\n",
       "      <td>Female</td>\n",
       "      <td>14</td>\n",
       "      <td>35</td>\n",
       "      <td>73</td>\n",
       "      <td>66</td>\n",
       "      <td>59</td>\n",
       "      <td>233</td>\n",
       "    </tr>\n",
       "    <tr>\n",
       "      <th>78</th>\n",
       "      <td>250</td>\n",
       "      <td>Fernande</td>\n",
       "      <td>Male</td>\n",
       "      <td>15</td>\n",
       "      <td>50</td>\n",
       "      <td>8</td>\n",
       "      <td>80</td>\n",
       "      <td>78</td>\n",
       "      <td>216</td>\n",
       "    </tr>\n",
       "  </tbody>\n",
       "</table>\n",
       "<p>79 rows × 9 columns</p>\n",
       "</div>"
      ],
      "text/plain": [
       "     id      Name  Gender  Age  Science  English  History  Maths  Total\n",
       "0     2    Lemmie    Male   15       29       41       17     40    127\n",
       "1     4     Denna  Female   14       15       53       82     33    183\n",
       "2     7   Ichabod  Female   14       38       74       54     60    226\n",
       "3     8  Beverlie    Male   14       25       51       41     80    197\n",
       "4    12   Valaria    Male   13       19        5       78     76    178\n",
       "..  ...       ...     ...  ...      ...      ...      ...    ...    ...\n",
       "74  243    Morrie  Female   13       17       24       41     21    103\n",
       "75  247       Rog  Female   13        1        4       68     65    138\n",
       "76  248      Kaia    Male   15       93       48       82     44    267\n",
       "77  249      Anni  Female   14       35       73       66     59    233\n",
       "78  250  Fernande    Male   15       50        8       80     78    216\n",
       "\n",
       "[79 rows x 9 columns]"
      ]
     },
     "execution_count": 19,
     "metadata": {},
     "output_type": "execute_result"
    }
   ],
   "source": [
    "stacked_df.unstack().reset_index()"
   ]
  },
  {
   "cell_type": "markdown",
   "metadata": {},
   "source": [
    "## Use of Unstack() function\n",
    "Unstack() function is used to convert the data into unstacked format. with help of this function we can reshape multi-index table. For example we have a table with two index columns and we want to convert it into single index column by taking one index column and convert it into column. This can be done with the help of unstack() function.\n",
    "\n",
    "Unstack function is used to rearrange the data into more readable format."
   ]
  },
  {
   "cell_type": "code",
   "execution_count": 20,
   "metadata": {},
   "outputs": [
    {
     "data": {
      "text/html": [
       "<div>\n",
       "<style scoped>\n",
       "    .dataframe tbody tr th:only-of-type {\n",
       "        vertical-align: middle;\n",
       "    }\n",
       "\n",
       "    .dataframe tbody tr th {\n",
       "        vertical-align: top;\n",
       "    }\n",
       "\n",
       "    .dataframe thead th {\n",
       "        text-align: right;\n",
       "    }\n",
       "</style>\n",
       "<table border=\"1\" class=\"dataframe\">\n",
       "  <thead>\n",
       "    <tr style=\"text-align: right;\">\n",
       "      <th></th>\n",
       "      <th>id</th>\n",
       "      <th>Name</th>\n",
       "      <th>Gender</th>\n",
       "      <th>Age</th>\n",
       "      <th>Science</th>\n",
       "      <th>English</th>\n",
       "      <th>History</th>\n",
       "      <th>Maths</th>\n",
       "      <th>Total</th>\n",
       "    </tr>\n",
       "  </thead>\n",
       "  <tbody>\n",
       "    <tr>\n",
       "      <th>0</th>\n",
       "      <td>2</td>\n",
       "      <td>Lemmie</td>\n",
       "      <td>Male</td>\n",
       "      <td>15</td>\n",
       "      <td>29</td>\n",
       "      <td>41</td>\n",
       "      <td>17</td>\n",
       "      <td>40</td>\n",
       "      <td>127</td>\n",
       "    </tr>\n",
       "    <tr>\n",
       "      <th>1</th>\n",
       "      <td>4</td>\n",
       "      <td>Denna</td>\n",
       "      <td>Female</td>\n",
       "      <td>14</td>\n",
       "      <td>15</td>\n",
       "      <td>53</td>\n",
       "      <td>82</td>\n",
       "      <td>33</td>\n",
       "      <td>183</td>\n",
       "    </tr>\n",
       "    <tr>\n",
       "      <th>2</th>\n",
       "      <td>7</td>\n",
       "      <td>Ichabod</td>\n",
       "      <td>Female</td>\n",
       "      <td>14</td>\n",
       "      <td>38</td>\n",
       "      <td>74</td>\n",
       "      <td>54</td>\n",
       "      <td>60</td>\n",
       "      <td>226</td>\n",
       "    </tr>\n",
       "  </tbody>\n",
       "</table>\n",
       "</div>"
      ],
      "text/plain": [
       "   id     Name  Gender  Age  Science  English  History  Maths  Total\n",
       "0   2   Lemmie    Male   15       29       41       17     40    127\n",
       "1   4    Denna  Female   14       15       53       82     33    183\n",
       "2   7  Ichabod  Female   14       38       74       54     60    226"
      ]
     },
     "execution_count": 20,
     "metadata": {},
     "output_type": "execute_result"
    }
   ],
   "source": [
    "df.head(3)"
   ]
  },
  {
   "cell_type": "markdown",
   "metadata": {},
   "source": [
    "## To understand this function lets create a simple multi index dataframe from our existing dataframe"
   ]
  },
  {
   "cell_type": "code",
   "execution_count": 21,
   "metadata": {},
   "outputs": [
    {
     "data": {
      "text/html": [
       "<div>\n",
       "<style scoped>\n",
       "    .dataframe tbody tr th:only-of-type {\n",
       "        vertical-align: middle;\n",
       "    }\n",
       "\n",
       "    .dataframe tbody tr th {\n",
       "        vertical-align: top;\n",
       "    }\n",
       "\n",
       "    .dataframe thead th {\n",
       "        text-align: right;\n",
       "    }\n",
       "</style>\n",
       "<table border=\"1\" class=\"dataframe\">\n",
       "  <thead>\n",
       "    <tr style=\"text-align: right;\">\n",
       "      <th></th>\n",
       "      <th></th>\n",
       "      <th>Total</th>\n",
       "    </tr>\n",
       "    <tr>\n",
       "      <th>Gender</th>\n",
       "      <th>Age</th>\n",
       "      <th></th>\n",
       "    </tr>\n",
       "  </thead>\n",
       "  <tbody>\n",
       "    <tr>\n",
       "      <th rowspan=\"3\" valign=\"top\">Female</th>\n",
       "      <th>13</th>\n",
       "      <td>211.166667</td>\n",
       "    </tr>\n",
       "    <tr>\n",
       "      <th>14</th>\n",
       "      <td>210.428571</td>\n",
       "    </tr>\n",
       "    <tr>\n",
       "      <th>15</th>\n",
       "      <td>206.133333</td>\n",
       "    </tr>\n",
       "    <tr>\n",
       "      <th rowspan=\"3\" valign=\"top\">Male</th>\n",
       "      <th>13</th>\n",
       "      <td>219.214286</td>\n",
       "    </tr>\n",
       "    <tr>\n",
       "      <th>14</th>\n",
       "      <td>195.111111</td>\n",
       "    </tr>\n",
       "    <tr>\n",
       "      <th>15</th>\n",
       "      <td>217.000000</td>\n",
       "    </tr>\n",
       "  </tbody>\n",
       "</table>\n",
       "</div>"
      ],
      "text/plain": [
       "                 Total\n",
       "Gender Age            \n",
       "Female 13   211.166667\n",
       "       14   210.428571\n",
       "       15   206.133333\n",
       "Male   13   219.214286\n",
       "       14   195.111111\n",
       "       15   217.000000"
      ]
     },
     "execution_count": 21,
     "metadata": {},
     "output_type": "execute_result"
    }
   ],
   "source": [
    "multi_index_df =df.groupby(['Gender', 'Age']).agg({'Total': 'mean'})\n",
    "multi_index_df"
   ]
  },
  {
   "cell_type": "code",
   "execution_count": 22,
   "metadata": {},
   "outputs": [
    {
     "data": {
      "text/html": [
       "<div>\n",
       "<style scoped>\n",
       "    .dataframe tbody tr th:only-of-type {\n",
       "        vertical-align: middle;\n",
       "    }\n",
       "\n",
       "    .dataframe tbody tr th {\n",
       "        vertical-align: top;\n",
       "    }\n",
       "\n",
       "    .dataframe thead tr th {\n",
       "        text-align: left;\n",
       "    }\n",
       "\n",
       "    .dataframe thead tr:last-of-type th {\n",
       "        text-align: right;\n",
       "    }\n",
       "</style>\n",
       "<table border=\"1\" class=\"dataframe\">\n",
       "  <thead>\n",
       "    <tr>\n",
       "      <th></th>\n",
       "      <th colspan=\"3\" halign=\"left\">Total</th>\n",
       "    </tr>\n",
       "    <tr>\n",
       "      <th>Age</th>\n",
       "      <th>13</th>\n",
       "      <th>14</th>\n",
       "      <th>15</th>\n",
       "    </tr>\n",
       "    <tr>\n",
       "      <th>Gender</th>\n",
       "      <th></th>\n",
       "      <th></th>\n",
       "      <th></th>\n",
       "    </tr>\n",
       "  </thead>\n",
       "  <tbody>\n",
       "    <tr>\n",
       "      <th>Female</th>\n",
       "      <td>211.166667</td>\n",
       "      <td>210.428571</td>\n",
       "      <td>206.133333</td>\n",
       "    </tr>\n",
       "    <tr>\n",
       "      <th>Male</th>\n",
       "      <td>219.214286</td>\n",
       "      <td>195.111111</td>\n",
       "      <td>217.000000</td>\n",
       "    </tr>\n",
       "  </tbody>\n",
       "</table>\n",
       "</div>"
      ],
      "text/plain": [
       "             Total                        \n",
       "Age             13          14          15\n",
       "Gender                                    \n",
       "Female  211.166667  210.428571  206.133333\n",
       "Male    219.214286  195.111111  217.000000"
      ]
     },
     "execution_count": 22,
     "metadata": {},
     "output_type": "execute_result"
    }
   ],
   "source": [
    "unstacked_df = multi_index_df.unstack('Age') # we can here write index name or index position such as unstack(0) inside parenthesis it will unstack that index. \n",
    "unstacked_df"
   ]
  },
  {
   "cell_type": "markdown",
   "metadata": {},
   "source": [
    "# Crosstab function\n",
    "We can use the crosstab function to compute a cross-tabulation of two (or more) factors. The crosstab funciton is similar to the pivot_table function, but it aggregates the data using the len function by default. You can specify a different aggregation function using the aggfunc argument."
   ]
  },
  {
   "cell_type": "code",
   "execution_count": 23,
   "metadata": {},
   "outputs": [
    {
     "data": {
      "text/html": [
       "<div>\n",
       "<style scoped>\n",
       "    .dataframe tbody tr th:only-of-type {\n",
       "        vertical-align: middle;\n",
       "    }\n",
       "\n",
       "    .dataframe tbody tr th {\n",
       "        vertical-align: top;\n",
       "    }\n",
       "\n",
       "    .dataframe thead th {\n",
       "        text-align: right;\n",
       "    }\n",
       "</style>\n",
       "<table border=\"1\" class=\"dataframe\">\n",
       "  <thead>\n",
       "    <tr style=\"text-align: right;\">\n",
       "      <th>Age</th>\n",
       "      <th>13</th>\n",
       "      <th>14</th>\n",
       "      <th>15</th>\n",
       "    </tr>\n",
       "    <tr>\n",
       "      <th>Gender</th>\n",
       "      <th></th>\n",
       "      <th></th>\n",
       "      <th></th>\n",
       "    </tr>\n",
       "  </thead>\n",
       "  <tbody>\n",
       "    <tr>\n",
       "      <th>Female</th>\n",
       "      <td>18</td>\n",
       "      <td>14</td>\n",
       "      <td>15</td>\n",
       "    </tr>\n",
       "    <tr>\n",
       "      <th>Male</th>\n",
       "      <td>14</td>\n",
       "      <td>9</td>\n",
       "      <td>9</td>\n",
       "    </tr>\n",
       "  </tbody>\n",
       "</table>\n",
       "</div>"
      ],
      "text/plain": [
       "Age     13  14  15\n",
       "Gender            \n",
       "Female  18  14  15\n",
       "Male    14   9   9"
      ]
     },
     "execution_count": 23,
     "metadata": {},
     "output_type": "execute_result"
    }
   ],
   "source": [
    "crosstab_df = pd.crosstab(df['Gender'],df['Age']) # first argument is the row, second argument is the column\n",
    "crosstab_df"
   ]
  },
  {
   "cell_type": "markdown",
   "metadata": {},
   "source": [
    "### Also you can apply aggregation functions in the crosstab function. You have to declear value column and aggregation function in the crosstab function.\n",
    "\n",
    "*You may ask so what is the difference between pivot and crosstab methods. Actually, they are very similar. The only difference is pivot method requires three parameters which are index, columns and values. In crosstab method, two parameters index and columns are mandatory but values parameter is optional. Also, crosstab method is more useful for aggregation functions.*"
   ]
  },
  {
   "cell_type": "code",
   "execution_count": 24,
   "metadata": {},
   "outputs": [
    {
     "name": "stdout",
     "output_type": "stream",
     "text": [
      "Age             13          14          15\n",
      "Gender                                    \n",
      "Female  211.166667  210.428571  206.133333\n",
      "Male    219.214286  195.111111  217.000000\n"
     ]
    }
   ],
   "source": [
    "crosstab_df1 = pd.crosstab(df['Gender'], df['Age'], values=df['Total'], aggfunc='mean')\n",
    "print(crosstab_df1)"
   ]
  },
  {
   "cell_type": "markdown",
   "metadata": {},
   "source": [
    "In the context of the Jupyter Notebook you are working on, the `crosstab()` function is used to find the relationship between Age and gender. The function takes two arguments: the row and column to be cross-tabulated. In this case, the row is the `Gender` column and the column is the `Age` column. The resulting table shows the count of each combination of gender and age.\n",
    "\n",
    "You can also apply aggregation functions in the `crosstab()` function. You have to declare the value column and aggregation function in the `crosstab()` function. For example, you can find the mean of the `Total` column for each combination of gender and age by specifying `values=df['Total']` and `aggfunc='mean'`.\n",
    "\n",
    "Overall, the `crosstab()` function is a useful tool for analyzing the relationship between two or more factors in a dataset."
   ]
  }
 ],
 "metadata": {
  "kernelspec": {
   "display_name": "Python 3",
   "language": "python",
   "name": "python3"
  },
  "language_info": {
   "codemirror_mode": {
    "name": "ipython",
    "version": 3
   },
   "file_extension": ".py",
   "mimetype": "text/x-python",
   "name": "python",
   "nbconvert_exporter": "python",
   "pygments_lexer": "ipython3",
   "version": "3.11.2"
  },
  "orig_nbformat": 4
 },
 "nbformat": 4,
 "nbformat_minor": 2
}
